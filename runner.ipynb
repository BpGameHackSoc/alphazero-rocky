{
 "cells": [
  {
   "cell_type": "code",
   "execution_count": null,
   "metadata": {
    "scrolled": false
   },
   "outputs": [],
   "source": [
    "from src.arena import Arena\n",
    "from src.agents.random import RandomAgent\n",
    "\n",
    "p1 = RandomAgent(name='first')\n",
    "p2 = RandomAgent(name='second')\n",
    "arena = Arena('gomoku', p1, p2)\n",
    "\n",
    "arena.battle(verbose=2)"
   ]
  },
  {
   "cell_type": "code",
   "execution_count": 20,
   "metadata": {},
   "outputs": [
    {
     "data": {
      "text/plain": [
       "<module 'src.tree_node' from '/home/gergely/Workspace/rocky/src/tree_node.py'>"
      ]
     },
     "execution_count": 20,
     "metadata": {},
     "output_type": "execute_result"
    }
   ],
   "source": [
    "from src.test_teacher import Teacher, Brain\n",
    "from src.games.gomoku.game import GomokuState\n",
    "from src  import mcts\n",
    "from src  import tree_node\n",
    "from importlib import reload\n",
    "reload(mcts)\n",
    "reload(tree_node)\n"
   ]
  },
  {
   "cell_type": "code",
   "execution_count": 22,
   "metadata": {},
   "outputs": [],
   "source": [
    "# Get info about how fast the MCTS is\n",
    "b = Brain()\n",
    "g = GomokuState()\n",
    "n = tree_node.Node(g)\n",
    "ts = mcts.MCTS(b, time=3)\n",
    "root = ts.search(n)\n",
    "# ts.stats()"
   ]
  },
  {
   "cell_type": "code",
   "execution_count": 1,
   "metadata": {},
   "outputs": [],
   "source": [
    "from enum import IntEnum\n",
    "class ASd(IntEnum):\n",
    "    A = 0\n",
    "    B =1 "
   ]
  },
  {
   "cell_type": "code",
   "execution_count": 3,
   "metadata": {},
   "outputs": [
    {
     "data": {
      "text/plain": [
       "<ASd.A: 0>"
      ]
     },
     "execution_count": 3,
     "metadata": {},
     "output_type": "execute_result"
    }
   ],
   "source": [
    "ASd.A"
   ]
  }
 ],
 "metadata": {
  "kernelspec": {
   "display_name": "gomoku",
   "language": "python",
   "name": "gomoku"
  },
  "language_info": {
   "codemirror_mode": {
    "name": "ipython",
    "version": 3
   },
   "file_extension": ".py",
   "mimetype": "text/x-python",
   "name": "python",
   "nbconvert_exporter": "python",
   "pygments_lexer": "ipython3",
   "version": "3.6.4"
  }
 },
 "nbformat": 4,
 "nbformat_minor": 2
}
