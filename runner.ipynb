{
 "cells": [
  {
   "cell_type": "code",
   "execution_count": null,
   "metadata": {},
   "outputs": [],
   "source": [
    "# from src.games.uttt.game import game \n",
    "import src.games.uttt.game as game\n",
    "from importlib import reload\n",
    "reload(game)\n",
    "import numpy as np\n",
    "from IPython.core.interactiveshell import InteractiveShell\n",
    "InteractiveShell.ast_node_interactivity = \"all\"\n",
    "mb = game.UTTTState()"
   ]
  },
  {
   "cell_type": "code",
   "execution_count": null,
   "metadata": {},
   "outputs": [],
   "source": [
    "np.array(mb.to_input(),dtype=object)"
   ]
  },
  {
   "cell_type": "code",
   "execution_count": null,
   "metadata": {},
   "outputs": [],
   "source": [
    "mb.move_in_place((1,0,0,0))"
   ]
  },
  {
   "cell_type": "code",
   "execution_count": null,
   "metadata": {},
   "outputs": [],
   "source": [
    "mb.move_to_move_index(mb.valid_moves()[8])"
   ]
  },
  {
   "cell_type": "code",
   "execution_count": null,
   "metadata": {},
   "outputs": [],
   "source": [
    "act_sub_t = tf.one_hot(active_subgame, mb.board[:2,name='active_subgame')"
   ]
  },
  {
   "cell_type": "code",
   "execution_count": null,
   "metadata": {},
   "outputs": [],
   "source": [
    "mb.active_subgame"
   ]
  },
  {
   "cell_type": "code",
   "execution_count": null,
   "metadata": {},
   "outputs": [],
   "source": [
    "list(zip(*[(1,2),(3,4),(5,6)]))[0]"
   ]
  },
  {
   "cell_type": "code",
   "execution_count": null,
   "metadata": {},
   "outputs": [],
   "source": [
    "tf.reshape(mb.to_input()[1],[-1])"
   ]
  },
  {
   "cell_type": "code",
   "execution_count": null,
   "metadata": {},
   "outputs": [],
   "source": [
    "mb.to_input()"
   ]
  },
  {
   "cell_type": "code",
   "execution_count": null,
   "metadata": {},
   "outputs": [],
   "source": [
    "mb.to_input()[3]\n",
    "threealogline = tf.reshape(tf.concat(mb.to_input()[3],axis=0),[-1])\n",
    "subgame_res = tf.reshape(mb.to_input()[1],[-1])\n",
    "active_sub = mb.to_input()[2]\n",
    "tf.concat([threealogline,subgame_res,active_sub],axis=0)"
   ]
  },
  {
   "cell_type": "code",
   "execution_count": null,
   "metadata": {},
   "outputs": [],
   "source": [
    "base = np.array([np.random.randint(3) for _ in range(81)]) -1\n",
    "vanilla_board = base.reshape((3,3,3,3))\n",
    "vanilla_board"
   ]
  },
  {
   "cell_type": "code",
   "execution_count": null,
   "metadata": {},
   "outputs": [],
   "source": [
    "vanilla_board\n",
    "vanilla_board.swapaxes(-2,-3).reshape((9,9))\n",
    "new =  np.rot90(vanilla_board,1,(0,1)).copy()\n",
    "new =  np.rot90(new,1,(2,3)).copy()\n",
    "# new = np.flip(new,axis=-2)\n",
    "new\n",
    "new.swapaxes(-2,-3).reshape((9,9))"
   ]
  },
  {
   "cell_type": "code",
   "execution_count": null,
   "metadata": {},
   "outputs": [],
   "source": [
    "mb.move_in_place((0,0,0,0))"
   ]
  },
  {
   "cell_type": "code",
   "execution_count": null,
   "metadata": {},
   "outputs": [],
   "source": [
    "mb.to_input()"
   ]
  },
  {
   "cell_type": "code",
   "execution_count": null,
   "metadata": {},
   "outputs": [],
   "source": [
    "b = np.zeros((3,3))\n",
    "b[mb.active_subgame] = 1\n",
    "act = np.nonzero(b)\n",
    "act\n",
    "with tf.Session():\n",
    "    tf.one_hot(np.ravel_multi_index(act,mb.board.shape[:2]),10).eval()"
   ]
  },
  {
   "cell_type": "code",
   "execution_count": null,
   "metadata": {},
   "outputs": [],
   "source": [
    "mb.active_subgame"
   ]
  },
  {
   "cell_type": "code",
   "execution_count": null,
   "metadata": {},
   "outputs": [],
   "source": [
    "print(mb)"
   ]
  },
  {
   "cell_type": "code",
   "execution_count": null,
   "metadata": {},
   "outputs": [],
   "source": [
    "base = np.array(range(81))\n",
    "vanilla_board = base.reshape((3,3,3,3))\n",
    "vanilla_board[0,0,0,0]\n",
    "vanilla_board[0,0,1,1]\n",
    "vanilla_board[0,0,2,2]\n",
    "# vanilla_board\n",
    "vanilla_board\n",
    "vanilla_board.reshape((3,3,9))"
   ]
  },
  {
   "cell_type": "code",
   "execution_count": null,
   "metadata": {},
   "outputs": [],
   "source": [
    "vanilla_board.swapaxes(-2,-3).reshape((9,9))"
   ]
  },
  {
   "cell_type": "code",
   "execution_count": null,
   "metadata": {},
   "outputs": [],
   "source": [
    "vanilla_board.swapaxes(-2,-3).reshape((9,9))"
   ]
  },
  {
   "cell_type": "code",
   "execution_count": null,
   "metadata": {},
   "outputs": [],
   "source": [
    "vanilla_board"
   ]
  },
  {
   "cell_type": "code",
   "execution_count": null,
   "metadata": {},
   "outputs": [],
   "source": [
    "import tensorflow as tf"
   ]
  },
  {
   "cell_type": "code",
   "execution_count": null,
   "metadata": {},
   "outputs": [],
   "source": [
    "vanilla_board.shape[2:]\n",
    "vanilla_board.reshape(-1,*vanilla_board.shape[2:])"
   ]
  },
  {
   "cell_type": "code",
   "execution_count": null,
   "metadata": {},
   "outputs": [],
   "source": [
    "reload(game)\n",
    "mb = game.UTTTState()"
   ]
  },
  {
   "cell_type": "code",
   "execution_count": null,
   "metadata": {},
   "outputs": [],
   "source": [
    "subgame.shape"
   ]
  },
  {
   "cell_type": "code",
   "execution_count": null,
   "metadata": {},
   "outputs": [],
   "source": [
    "subgame[np.array([[0,1,2],[0,1,2]])]\n",
    "subgame[([0,1,2],[0,1,2])]"
   ]
  },
  {
   "cell_type": "code",
   "execution_count": null,
   "metadata": {},
   "outputs": [],
   "source": [
    "mb.get_minor_diag(subgame)[None,:]"
   ]
  },
  {
   "cell_type": "code",
   "execution_count": null,
   "metadata": {},
   "outputs": [],
   "source": [
    "pos_part"
   ]
  },
  {
   "cell_type": "code",
   "execution_count": null,
   "metadata": {},
   "outputs": [],
   "source": [
    "a"
   ]
  },
  {
   "cell_type": "code",
   "execution_count": null,
   "metadata": {},
   "outputs": [],
   "source": [
    "a[pos_part].T\n",
    "a[pos_part]"
   ]
  },
  {
   "cell_type": "code",
   "execution_count": null,
   "metadata": {},
   "outputs": [],
   "source": [
    "pos_part"
   ]
  },
  {
   "cell_type": "code",
   "execution_count": null,
   "metadata": {},
   "outputs": [],
   "source": [
    "a[pos_part]"
   ]
  },
  {
   "cell_type": "code",
   "execution_count": null,
   "metadata": {},
   "outputs": [],
   "source": [
    "a[pos_part]"
   ]
  },
  {
   "cell_type": "code",
   "execution_count": null,
   "metadata": {},
   "outputs": [],
   "source": [
    "pos_part.shape"
   ]
  },
  {
   "cell_type": "code",
   "execution_count": null,
   "metadata": {},
   "outputs": [],
   "source": [
    "a = np.array(np.unravel_index(range(27),(3,3,3))) - 1\n",
    "a = a.T\n",
    "a\n",
    "# a =a[~((np.isin(np.count_nonzero(a,axis=1),(0,3))) | (np.count_nonzero(a,axis=1)!=np.absolute(np.sum(a,axis=1))))]\n",
    "a[(np.isin(np.count_nonzero(a,axis=1),(0,3))) & (np.count_nonzero(a,axis=1)==np.absolute(np.sum(a,axis=1)))] = 0\n",
    "a[ (np.count_nonzero(a,axis=1)!=np.absolute(np.sum(a,axis=1)))] = 1\n",
    "\n",
    "a\n",
    "cont = np.zeros((27,))\n",
    "pos_part = np.sum(a,axis=1)>=0\n",
    "non_pos_part = ~pos_part\n",
    "np.ravel_multi_index(a[pos_part].T,(2,2,2))\n",
    "cont[pos_part] = np.ravel_multi_index(a[pos_part].T,(2,2,2))\n",
    "cont[non_pos_part] = np.ravel_multi_index(a[non_pos_part].T,(2,2,2),'wrap')+ 7\n",
    "cont"
   ]
  },
  {
   "cell_type": "code",
   "execution_count": null,
   "metadata": {},
   "outputs": [],
   "source": [
    "pos_part\n",
    "axes[pos_part]"
   ]
  },
  {
   "cell_type": "code",
   "execution_count": null,
   "metadata": {},
   "outputs": [],
   "source": [
    "cont = np.zeros((8,))\n",
    "np.ravel_multi_index(axes[pos_part].T,(2,2,2))\n",
    "cont[pos_part] = np.ravel_multi_index(axes[pos_part].T,(2,2,2))\n",
    "cont[non_pos_part] = np.ravel_multi_index(axes[non_pos_part].T,(2,2,2),'wrap') -2\n",
    "cont"
   ]
  },
  {
   "cell_type": "code",
   "execution_count": null,
   "metadata": {},
   "outputs": [],
   "source": [
    "base = np.array([np.random.randint(3) for _ in range(9)]) -1\n",
    "base = base.reshape((3,3))\n",
    "base +=1\n",
    "base\n",
    "sess = tf.Session()\n",
    "with sess.as_default():\n",
    "    tf.one_hot(base,3).eval()\n",
    "np.array(tf.one_hot(base,3))"
   ]
  },
  {
   "cell_type": "code",
   "execution_count": null,
   "metadata": {},
   "outputs": [],
   "source": [
    "base = np.array([np.random.randint(3) for _ in range(9)]) -1\n",
    "subgame = base.reshape((3,3))\n",
    "# subgame\n",
    "# subgame.T\n",
    "# mb.get_main_diag(subgame)\n",
    "# mb.get_minor_diag(subgame)\n",
    "axes = np.concatenate((subgame,subgame.T,\n",
    "                                 mb.get_main_diag(subgame)[None,:],\n",
    "                                 mb.get_minor_diag(subgame)[None,:]),axis=0)\n",
    "axes\n",
    "# np.absolute(np.sum(axes,axis=1))\n",
    "# (np.count_nonzero(axes,axis=1)!=np.absolute(np.sum(axes,axis=1)))\n",
    "# (np.isin(np.count_nonzero(axes,axis=1),(0,3)))\n",
    "axes[(np.isin(np.count_nonzero(axes,axis=1),(0,3))) & (np.count_nonzero(axes,axis=1)==np.absolute(np.sum(axes,axis=1)))] = 0\n",
    "axes[(np.count_nonzero(axes,axis=1)!=np.absolute(np.sum(axes,axis=1)))] = 1\n",
    "axes\n",
    "pos_part = np.sum(axes,axis=1)>=0\n",
    "non_pos_part = ~pos_part\n",
    "axes[pos_part]\n",
    "cont = np.zeros((8,))\n",
    "# np.ravel_multi_index(axes[pos_part].T,(2,2,2))\n",
    "cont[pos_part] = np.ravel_multi_index(axes[pos_part].T,(2,2,2))\n",
    "cont[non_pos_part] = np.ravel_multi_index(axes[non_pos_part].T,(2,2,2),'wrap') + 7\n",
    "axes\n",
    "cont\n",
    "# np.place(axes,axes==-1,2)\n",
    "# axes[pos_part] = np.ravel_multi_index(axes[pos_part].T,(2,2,2))\n",
    "\n",
    "# one_hot_indices = np.ravel_multi_index(axes.T,(3,3,3),'wrap')\n",
    "# one_hot_indices\n",
    "# one_hot_indices[one_hot_indices>10] -=14\n",
    "# one_hot_indices\n",
    "# a[(np.isin(np.count_nonzero(a,axis=1),(0,3))) & (np.count_nonzero(a,axis=1)==np.absolute(np.sum(a,axis=1)))] = 0\n",
    "# a[ (np.count_nonzero(a,axis=1)!=np.absolute(np.sum(a,axis=1)))] = 1\n",
    "\n",
    "# a\n",
    "# cont = np.zeros((27,))\n",
    "# pos_part = np.sum(a,axis=1)>=0\n",
    "# non_pos_part = ~pos_part\n",
    "# np.ravel_multi_index(a[pos_part].T,(2,2,2))\n",
    "# cont[pos_part] = np.ravel_multi_index(a[pos_part].T,(2,2,2))\n",
    "# cont[non_pos_part] = np.ravel_multi_index(a[non_pos_part].T,(2,2,2),'wrap')+ 7\n",
    "# cont"
   ]
  },
  {
   "cell_type": "code",
   "execution_count": null,
   "metadata": {},
   "outputs": [],
   "source": [
    "axes[np.sum(axes,axis=1)>0]\n",
    "axes[np.sum(axes,axis=1)<0]"
   ]
  },
  {
   "cell_type": "code",
   "execution_count": null,
   "metadata": {},
   "outputs": [],
   "source": [
    "axes.T"
   ]
  },
  {
   "cell_type": "code",
   "execution_count": null,
   "metadata": {},
   "outputs": [],
   "source": [
    "np.absolute(np.sum(axes,axis=1))\n",
    "(np.count_nonzero(axes,axis=1)!=np.absolute(np.sum(axes,axis=1)))\n",
    "(np.isin(np.count_nonzero(axes,axis=1),(0,3)))"
   ]
  },
  {
   "cell_type": "code",
   "execution_count": null,
   "metadata": {},
   "outputs": [],
   "source": [
    "base = np.array([np.random.randint(3) for _ in range(81)]) -1\n",
    "vanilla_board = base.reshape((3,3,3,3))\n",
    "base_act_sub = np.random.randint(9)\n",
    "active_subgame = np.unravel_index([base_act_sub],(3,3))\n",
    "if active_subgame is None:\n",
    "    active_subgame = 9\n",
    "else:\n",
    "    active_subgame = np.ravel_multi_index(active_subgame,vanilla_board.shape[:2])\n",
    "    no_subgames = vanilla_board[:2].size\n",
    "    act_sub_t = tf.one_hot(active_subgame, no_subgames)\n",
    "    nearly_done = []\n",
    "i = 0\n",
    "for subgame in vanilla_board.reshape(-1,*vanilla_board.shape[2:]).copy():\n",
    "    extracted3s = np.concatenate((subgame,subgame.T,\n",
    "                                 mb.get_main_diag(subgame),\n",
    "                                 mb.get_minor_diag(subgame)))\n",
    "    extracted3s[(np.isin(np.count_nonzero(extracted3s,axis=0),(0,3))) | (np.count_nonzero(extracted3s,axis=0)!=np.absolute(np.sum(extracted3s,axis=0)))]\n",
    "    if i==0:\n",
    "        break\n",
    "    extracted3s[(np.isin(np.count_nonzero(extracted3s,axis=0),(0,3))) | (np.count_nonzero(extracted3s,axis=0)!=np.absolute(np.sum(extracted3s,axis=0)))] = 0\n",
    "    np.place(subgame,subgame==-1,2)\n",
    "    for extracted in extracted3s:\n",
    "        nearly_done.append(tf.one_hot(np.ravel_multi_index(np.expand_dims(extracted,axis=-1),(3,3,3)),27))\n"
   ]
  },
  {
   "cell_type": "code",
   "execution_count": null,
   "metadata": {},
   "outputs": [],
   "source": [
    "import unittest"
   ]
  },
  {
   "cell_type": "code",
   "execution_count": null,
   "metadata": {},
   "outputs": [],
   "source": [
    "[range(3)]*4"
   ]
  },
  {
   "cell_type": "code",
   "execution_count": null,
   "metadata": {},
   "outputs": [],
   "source": [
    "unittest.TestCase().assertSequenceEqual(mb.valid_moves(),np.array(np.meshgrid(*[range(3)]*4)).T.reshape(-1,4))"
   ]
  },
  {
   "cell_type": "code",
   "execution_count": null,
   "metadata": {},
   "outputs": [],
   "source": [
    "sorted(np.array(np.meshgrid(*[range(3)]*4)).T.reshape(-1,4).tolist()) == sorted(mb.valid_moves().tolist())"
   ]
  },
  {
   "cell_type": "code",
   "execution_count": null,
   "metadata": {},
   "outputs": [],
   "source": [
    "sorted(mb.valid_moves().tolist())"
   ]
  },
  {
   "cell_type": "code",
   "execution_count": null,
   "metadata": {},
   "outputs": [],
   "source": [
    "reload(game)\n",
    "mb = game.UTTTState()\n",
    "# mb.valid_moves()\n"
   ]
  },
  {
   "cell_type": "code",
   "execution_count": null,
   "metadata": {},
   "outputs": [],
   "source": [
    "mb.move_in_place((1,1,1,1))"
   ]
  },
  {
   "cell_type": "code",
   "execution_count": null,
   "metadata": {},
   "outputs": [],
   "source": [
    "a = np.array(range(81))\n",
    "mb.filter_by_valid(a,mb.valid_moves())"
   ]
  },
  {
   "cell_type": "code",
   "execution_count": null,
   "metadata": {},
   "outputs": [],
   "source": [
    "mb.board[mb.valid_moves().T]"
   ]
  },
  {
   "cell_type": "code",
   "execution_count": null,
   "metadata": {},
   "outputs": [],
   "source": [
    "mb.board"
   ]
  },
  {
   "cell_type": "code",
   "execution_count": null,
   "metadata": {},
   "outputs": [],
   "source": [
    "mb.valid_moves().shape"
   ]
  },
  {
   "cell_type": "code",
   "execution_count": null,
   "metadata": {},
   "outputs": [],
   "source": [
    "a = np.array(range(90))\n",
    "a[np.ravel_multi_index(np.transpose(mb.valid_moves()),mb.board.shape)]"
   ]
  },
  {
   "cell_type": "code",
   "execution_count": null,
   "metadata": {},
   "outputs": [],
   "source": [
    "mb.move_in_place((1,1,1,1))"
   ]
  },
  {
   "cell_type": "code",
   "execution_count": null,
   "metadata": {},
   "outputs": [],
   "source": [
    "mb.board[np.ravel_multi_index(np.transpose(mb.valid_moves())).tolist()]"
   ]
  },
  {
   "cell_type": "code",
   "execution_count": null,
   "metadata": {},
   "outputs": [],
   "source": [
    "np.array(np.meshgrid(*[range(3)]*4)).T.reshape(-1,4)"
   ]
  },
  {
   "cell_type": "code",
   "execution_count": null,
   "metadata": {},
   "outputs": [],
   "source": [
    "from IPython.core.interactiveshell import InteractiveShell\n",
    "InteractiveShell.ast_node_interactivity = \"all\""
   ]
  },
  {
   "cell_type": "code",
   "execution_count": null,
   "metadata": {},
   "outputs": [],
   "source": [
    "mb = game.UTTTState()"
   ]
  },
  {
   "cell_type": "code",
   "execution_count": null,
   "metadata": {},
   "outputs": [],
   "source": [
    "completed_subs = np.array([[0,0],[0,2]])"
   ]
  },
  {
   "cell_type": "code",
   "execution_count": null,
   "metadata": {},
   "outputs": [],
   "source": [
    "np.array([[0,1]]) == np.array([[3],[0]])"
   ]
  },
  {
   "cell_type": "code",
   "execution_count": null,
   "metadata": {},
   "outputs": [],
   "source": [
    "test"
   ]
  },
  {
   "cell_type": "code",
   "execution_count": null,
   "metadata": {},
   "outputs": [],
   "source": [
    "np.expand_dims(np.expand_dims(completed_subs.T,-1), -1)"
   ]
  },
  {
   "cell_type": "code",
   "execution_count": null,
   "metadata": {},
   "outputs": [],
   "source": [
    "np.expand_dims(np.expand_dims(completed_subs.T,-1), -1).shape\n",
    "a = np.expand_dims(np.expand_dims(completed_subs.T,-1), -1) == test\n",
    "a.shape\n",
    "np.expand_dims(np.expand_dims(completed_subs.T,-1), -1) == test\n",
    "np.logical_and.reduce(np.expand_dims(np.expand_dims(completed_subs.T,-1), -1) == test,axis=-1).shape\n",
    "# np.logical_and.reduce(np.expand_dims(np.expand_dims(completed_subs.T,-1), -1) == test,axis=-1)"
   ]
  },
  {
   "cell_type": "code",
   "execution_count": null,
   "metadata": {
    "scrolled": true
   },
   "outputs": [],
   "source": [
    "np.logical_and.reduce(np.expand_dims(np.expand_dims(completed_subs.T,-1), -1) == test,axis=-1).shape\n",
    "np.logical_and.reduce(np.expand_dims(np.expand_dims(completed_subs.T,-1), -1) == test,axis=-1)"
   ]
  },
  {
   "cell_type": "code",
   "execution_count": null,
   "metadata": {},
   "outputs": [],
   "source": [
    "test.shape"
   ]
  },
  {
   "cell_type": "code",
   "execution_count": null,
   "metadata": {},
   "outputs": [],
   "source": [
    "np.expand_dims(np.expand_dims(completed_subs.T,0), 0) == test"
   ]
  },
  {
   "cell_type": "code",
   "execution_count": null,
   "metadata": {},
   "outputs": [],
   "source": [
    "test = np.argwhere(mb.board==0)[:,:2]\n",
    "test.shape"
   ]
  },
  {
   "cell_type": "code",
   "execution_count": null,
   "metadata": {},
   "outputs": [],
   "source": []
  },
  {
   "cell_type": "code",
   "execution_count": null,
   "metadata": {},
   "outputs": [],
   "source": [
    "np.argwhere(mb.board==0)[:,:2]==completed_subs"
   ]
  },
  {
   "cell_type": "code",
   "execution_count": null,
   "metadata": {},
   "outputs": [],
   "source": [
    "completed_subs\n",
    "np.argwhere(mb.board==0)[:,:2][0]\n",
    "np.argwhere(mb.board==0)[:,:2][0] in completed_subs"
   ]
  },
  {
   "cell_type": "code",
   "execution_count": null,
   "metadata": {},
   "outputs": [],
   "source": [
    "np.isin(np.argwhere(mb.board==0)[:,:2],completed_subs)"
   ]
  },
  {
   "cell_type": "code",
   "execution_count": null,
   "metadata": {},
   "outputs": [],
   "source": [
    "np.argwhere(mb.board==0)"
   ]
  },
  {
   "cell_type": "code",
   "execution_count": null,
   "metadata": {},
   "outputs": [],
   "source": [
    "    move = input()\n",
    "    print(move)\n",
    "    array_move = np.array(move)\n",
    "    print(array_move)"
   ]
  },
  {
   "cell_type": "code",
   "execution_count": null,
   "metadata": {},
   "outputs": [],
   "source": [
    "array_move"
   ]
  },
  {
   "cell_type": "code",
   "execution_count": null,
   "metadata": {},
   "outputs": [],
   "source": [
    "np.array(range(16)).reshape(2,2,2,2)\n",
    "np.array(range(16)).reshape(4,4)"
   ]
  },
  {
   "cell_type": "code",
   "execution_count": null,
   "metadata": {},
   "outputs": [],
   "source": [
    "from IPython.core.interactiveshell import InteractiveShell\n",
    "InteractiveShell.ast_node_interactivity = \"all\""
   ]
  },
  {
   "cell_type": "code",
   "execution_count": null,
   "metadata": {},
   "outputs": [],
   "source": [
    "def input_to_array(inp):\n",
    "    doubleindex = int(inp)\n",
    "    second = doubleindex % 10\n",
    "    firstindex = doubleindex // 10\n",
    "    one = firstindex // 3\n",
    "    sec = firstindex % 3\n",
    "    third = second // 3\n",
    "    fourth = second % 3\n",
    "    return (one,sec,third,fourth)\n",
    "input_to_array(66)"
   ]
  },
  {
   "cell_type": "code",
   "execution_count": null,
   "metadata": {},
   "outputs": [],
   "source": [
    "mb.global_wins"
   ]
  },
  {
   "cell_type": "code",
   "execution_count": null,
   "metadata": {},
   "outputs": [],
   "source": [
    "mb = game.UTTTState()\n",
    "while not mb.is_over():\n",
    "    print(\"Active subgame is {}\".format(mb.active_subgame))\n",
    "    move = input()\n",
    "    print(move)\n",
    "    array_move = input_to_array(move)\n",
    "    print(array_move)\n",
    "    mb = mb.move(array_move)\n",
    "    print(mb)"
   ]
  },
  {
   "cell_type": "code",
   "execution_count": null,
   "metadata": {},
   "outputs": [],
   "source": [
    "a = np.array(range(4)).reshape(2,2)\n",
    "a[2,:] =6"
   ]
  },
  {
   "cell_type": "code",
   "execution_count": null,
   "metadata": {},
   "outputs": [],
   "source": [
    "good_pos = mb.board==0"
   ]
  },
  {
   "cell_type": "code",
   "execution_count": null,
   "metadata": {},
   "outputs": [],
   "source": [
    "mb.global_wins!=0"
   ]
  },
  {
   "cell_type": "code",
   "execution_count": null,
   "metadata": {},
   "outputs": [],
   "source": [
    "mb.board==0"
   ]
  },
  {
   "cell_type": "code",
   "execution_count": null,
   "metadata": {},
   "outputs": [],
   "source": [
    "mb.board[mb.global_wins!=0]"
   ]
  },
  {
   "cell_type": "code",
   "execution_count": null,
   "metadata": {},
   "outputs": [],
   "source": [
    "np.argwhere(good_pos)"
   ]
  },
  {
   "cell_type": "code",
   "execution_count": null,
   "metadata": {},
   "outputs": [],
   "source": [
    "good_pos\n",
    "mb.global_wins!=0\n",
    "good_pos[mb.global_wins!=0] = False"
   ]
  },
  {
   "cell_type": "code",
   "execution_count": null,
   "metadata": {},
   "outputs": [],
   "source": [
    "np.nonzero(mb.board)\n",
    "np.where(mb.board==0)\n"
   ]
  },
  {
   "cell_type": "code",
   "execution_count": null,
   "metadata": {},
   "outputs": [],
   "source": [
    "print(mb)"
   ]
  },
  {
   "cell_type": "code",
   "execution_count": null,
   "metadata": {},
   "outputs": [],
   "source": [
    "array_move"
   ]
  },
  {
   "cell_type": "code",
   "execution_count": null,
   "metadata": {},
   "outputs": [],
   "source": [
    "mb.board[array_move]"
   ]
  },
  {
   "cell_type": "code",
   "execution_count": null,
   "metadata": {},
   "outputs": [],
   "source": [
    "mb.is_forbidden_move(array_move)"
   ]
  },
  {
   "cell_type": "code",
   "execution_count": null,
   "metadata": {},
   "outputs": [],
   "source": [
    "print(mb)"
   ]
  },
  {
   "cell_type": "code",
   "execution_count": null,
   "metadata": {},
   "outputs": [],
   "source": [
    "len(mb.board)"
   ]
  },
  {
   "cell_type": "code",
   "execution_count": null,
   "metadata": {},
   "outputs": [],
   "source": [
    "[x for x in mb.board][0]"
   ]
  },
  {
   "cell_type": "code",
   "execution_count": null,
   "metadata": {},
   "outputs": [],
   "source": [
    "print(str(mb))"
   ]
  },
  {
   "cell_type": "code",
   "execution_count": null,
   "metadata": {},
   "outputs": [],
   "source": [
    "board = np.zeros((3,)*4)"
   ]
  },
  {
   "cell_type": "code",
   "execution_count": null,
   "metadata": {},
   "outputs": [],
   "source": [
    "not 4`b\n"
   ]
  },
  {
   "cell_type": "code",
   "execution_count": null,
   "metadata": {},
   "outputs": [],
   "source": [
    "class ASD:\n",
    "    D = 4\n",
    "    D = D*2"
   ]
  },
  {
   "cell_type": "code",
   "execution_count": null,
   "metadata": {},
   "outputs": [],
   "source": [
    "ASD().D"
   ]
  },
  {
   "cell_type": "code",
   "execution_count": null,
   "metadata": {},
   "outputs": [],
   "source": [
    "a[[[0,0]]]"
   ]
  },
  {
   "cell_type": "code",
   "execution_count": null,
   "metadata": {},
   "outputs": [],
   "source": [
    "x"
   ]
  },
  {
   "cell_type": "code",
   "execution_count": null,
   "metadata": {},
   "outputs": [],
   "source": [
    "a=  np.array(range(9)).reshape(3,3)\n",
    "np.where(a>4)\n",
    "indices = [x for x in np.argwhere(a>4)]"
   ]
  },
  {
   "cell_type": "code",
   "execution_count": null,
   "metadata": {},
   "outputs": [],
   "source": [
    "a[np.expand_dims(indices[0],1)]"
   ]
  },
  {
   "cell_type": "code",
   "execution_count": null,
   "metadata": {},
   "outputs": [],
   "source": [
    "z = np.array([[[ 0,  1,  2,  3],\n",
    "...                [ 4,  5,  6,  7],\n",
    "...                [ 8,  9, 10, 11]],\n",
    "...\n",
    "...               [[12, 13, 14, 15],\n",
    "...                [16, 17, 18, 19],\n",
    "...                [20, 21, 22, 23]]])"
   ]
  },
  {
   "cell_type": "code",
   "execution_count": null,
   "metadata": {},
   "outputs": [],
   "source": [
    "z[[[0,0,0],[1,1,1]],[[0,1,2],[0,1,2]],[[0,1,2],[0,1,2]]]"
   ]
  },
  {
   "cell_type": "code",
   "execution_count": null,
   "metadata": {},
   "outputs": [],
   "source": [
    "z[*indices[0],slice(None)]"
   ]
  },
  {
   "cell_type": "code",
   "execution_count": null,
   "metadata": {},
   "outputs": [],
   "source": [
    "z[((1,0,1),)]"
   ]
  },
  {
   "cell_type": "code",
   "execution_count": null,
   "metadata": {},
   "outputs": [],
   "source": [
    "slice(None)"
   ]
  },
  {
   "cell_type": "code",
   "execution_count": null,
   "metadata": {},
   "outputs": [],
   "source": [
    "a[asd]"
   ]
  },
  {
   "cell_type": "code",
   "execution_count": null,
   "metadata": {},
   "outputs": [],
   "source": [
    "asd[0] = [0,1]"
   ]
  },
  {
   "cell_type": "code",
   "execution_count": null,
   "metadata": {},
   "outputs": [],
   "source": [
    "np.nonzero(a>4)\n",
    "np.transpose(np.nonzero(a>4))"
   ]
  },
  {
   "cell_type": "code",
   "execution_count": null,
   "metadata": {},
   "outputs": [],
   "source": [
    "a = [1,2,3]\n",
    "a[slice(None)]"
   ]
  },
  {
   "cell_type": "code",
   "execution_count": null,
   "metadata": {},
   "outputs": [],
   "source": [
    "np.array([1,2,slice(None)])"
   ]
  },
  {
   "cell_type": "code",
   "execution_count": null,
   "metadata": {},
   "outputs": [],
   "source": [
    "ind\n",
    "tuple(ind)\n",
    "ind[1] = [0,1]"
   ]
  },
  {
   "cell_type": "code",
   "execution_count": null,
   "metadata": {},
   "outputs": [],
   "source": [
    "np.put(ind,[1],slice(None))"
   ]
  },
  {
   "cell_type": "code",
   "execution_count": null,
   "metadata": {},
   "outputs": [],
   "source": [
    "mb.__dict__"
   ]
  },
  {
   "cell_type": "code",
   "execution_count": null,
   "metadata": {},
   "outputs": [],
   "source": [
    "np.argwhere(a>4)\n",
    "asd = np.argwhere(a>4)[0]\n",
    "asd\n",
    "asd[0]\n",
    "a[tuple(asd)]\n",
    "ind = np.expand_dims(asd,1)\n",
    "ind\n",
    "ind.shape\n",
    "ind[1,0] = slice(None)"
   ]
  },
  {
   "cell_type": "code",
   "execution_count": null,
   "metadata": {},
   "outputs": [],
   "source": [
    "np.nonzero(a>5)\n",
    "np.transpose(np.where(a>5))\n",
    "np.transpose(np.where(a>5))[0]"
   ]
  },
  {
   "cell_type": "code",
   "execution_count": null,
   "metadata": {},
   "outputs": [],
   "source": [
    "a\n",
    "indices[0]\n",
    "np.expand_dims(indices[0],1)\n",
    "tuple(np.expand_dims(indices[0],1))\n",
    "a[tuple(np.expand_dims(indices[0],1))]\n",
    "a[(np.expand_dims(indices[0],1))]\n",
    "np.transpose(indices[0])\n",
    "a[indices[0]]\n",
    "a[[indices[0]]]"
   ]
  },
  {
   "cell_type": "code",
   "execution_count": null,
   "metadata": {},
   "outputs": [],
   "source": [
    "a[np.transpose(indices[0])]"
   ]
  },
  {
   "cell_type": "code",
   "execution_count": null,
   "metadata": {},
   "outputs": [],
   "source": [
    "x = np.array([[1, 2], [3, 4], [5, 6]]) \n",
    "y = x[[0,1,2], [0,1,0]] \n",
    "x\n",
    "y"
   ]
  },
  {
   "cell_type": "code",
   "execution_count": null,
   "metadata": {},
   "outputs": [],
   "source": [
    "index[1] = slice(None,None,None)\n"
   ]
  },
  {
   "cell_type": "code",
   "execution_count": null,
   "metadata": {},
   "outputs": [],
   "source": [
    "from IPython.core.interactiveshell import InteractiveShell\n",
    "InteractiveShell.ast_node_interactivity = \"all\""
   ]
  },
  {
   "cell_type": "code",
   "execution_count": null,
   "metadata": {},
   "outputs": [],
   "source": [
    "a = np.array([[1,2],[3,4]])\n",
    "index = np.where(a==1)\n",
    "a[index]"
   ]
  },
  {
   "cell_type": "code",
   "execution_count": null,
   "metadata": {},
   "outputs": [],
   "source": [
    "board`a\n"
   ]
  },
  {
   "cell_type": "code",
   "execution_count": null,
   "metadata": {},
   "outputs": [],
   "source": [
    "import numpy as np\n",
    "\n",
    "np.array(mb.board)"
   ]
  },
  {
   "cell_type": "code",
   "execution_count": null,
   "metadata": {},
   "outputs": [],
   "source": [
    "list(map(lambda x:np.float(x.played_by), (cell for row in mb.board[0][0] for cell in row)))"
   ]
  },
  {
   "cell_type": "code",
   "execution_count": null,
   "metadata": {},
   "outputs": [],
   "source": [
    "(np.float(cell.played_by) for row in mb.board[0][0] for cell in row)"
   ]
  },
  {
   "cell_type": "code",
   "execution_count": null,
   "metadata": {},
   "outputs": [],
   "source": [
    "print(mb)"
   ]
  },
  {
   "cell_type": "code",
   "execution_count": 1,
   "metadata": {
    "scrolled": false
   },
   "outputs": [
    {
     "name": "stderr",
     "output_type": "stream",
     "text": [
      "/home/gergely/miniconda3/envs/gomoku/lib/python3.6/site-packages/h5py/__init__.py:36: FutureWarning: Conversion of the second argument of issubdtype from `float` to `np.floating` is deprecated. In future, it will be treated as `np.float64 == np.dtype(float).type`.\n",
      "  from ._conv import register_converters as _register_converters\n",
      "Using TensorFlow backend.\n"
     ]
    }
   ],
   "source": [
    "from importlib import reload\n",
    "import src.trainer\n",
    "reload(src.trainer)\n",
    "from src.trainer import Trainer\n",
    "coach = Trainer('uttt','utttnew_checkpoint_1')"
   ]
  },
  {
   "cell_type": "code",
   "execution_count": null,
   "metadata": {
    "scrolled": false
   },
   "outputs": [
    {
     "name": "stderr",
     "output_type": "stream",
     "text": [
      "\r",
      "  0%|          | 0/100 [00:00<?, ?it/s]"
     ]
    },
    {
     "name": "stdout",
     "output_type": "stream",
     "text": [
      " *** ITERATION : 2 ***\n"
     ]
    },
    {
     "name": "stderr",
     "output_type": "stream",
     "text": [
      "100%|██████████| 100/100 [45:06<00:00, 27.06s/it]\n",
      "Arena: 100%|██████████| 10/10 [09:40<00:00, 58.04s/it]\n"
     ]
    },
    {
     "name": "stdout",
     "output_type": "stream",
     "text": [
      "Rejected!\n",
      " *** ITERATION : 3 ***\n"
     ]
    },
    {
     "name": "stderr",
     "output_type": "stream",
     "text": [
      "100%|██████████| 100/100 [44:48<00:00, 26.88s/it]\n",
      "Arena:  90%|█████████ | 9/10 [09:16<01:01, 61.89s/it]"
     ]
    }
   ],
   "source": [
    "coach.learn()"
   ]
  },
  {
   "cell_type": "code",
   "execution_count": null,
   "metadata": {},
   "outputs": [],
   "source": [
    "import numpy as np\n",
    "np.ravel_multi_index((2,2), (3,3))"
   ]
  },
  {
   "cell_type": "code",
   "execution_count": null,
   "metadata": {},
   "outputs": [],
   "source": [
    "from src.arena import Arena\n",
    "from src.agents.human import HumanAgent\n",
    "from src.agents.student import StudentAgent\n",
    "from src.agents.random import RandomAgent\n",
    "from src.games.gomoku.neural_net import GomokuNN\n",
    "import src.agents.random as _random\n",
    "# reload(_random)\n",
    "#b = GomokuNN('gomokunew_checkpoint_20')\n",
    "#s = StudentAgent(b)\n",
    "#h = HumanAgent()\n",
    "r = _random.RandomAgent()\n",
    "a = Arena('uttt',r,r)"
   ]
  },
  {
   "cell_type": "code",
   "execution_count": null,
   "metadata": {
    "scrolled": false
   },
   "outputs": [],
   "source": [
    "wins, history = a.war(100)"
   ]
  },
  {
   "cell_type": "code",
   "execution_count": null,
   "metadata": {},
   "outputs": [],
   "source": [
    "history"
   ]
  },
  {
   "cell_type": "code",
   "execution_count": null,
   "metadata": {},
   "outputs": [],
   "source": [
    "# from src.games.uttt.game import game \n",
    "import src.games.uttt.game as game\n",
    "from importlib import reload\n",
    "reload(game)\n",
    "import numpy as np\n",
    "from IPython.core.interactiveshell import InteractiveShell\n",
    "InteractiveShell.ast_node_interactivity = \"all\"\n",
    "mb = game.UTTTState()"
   ]
  },
  {
   "cell_type": "code",
   "execution_count": null,
   "metadata": {},
   "outputs": [],
   "source": [
    "mb.to_input()[1].shape"
   ]
  },
  {
   "cell_type": "code",
   "execution_count": null,
   "metadata": {},
   "outputs": [],
   "source": [
    "import numpy as np\n",
    "np.array(history)[:,0]"
   ]
  },
  {
   "cell_type": "code",
   "execution_count": null,
   "metadata": {},
   "outputs": [],
   "source": [
    "import numpy as np\n",
    "possible_move_len = 9\n",
    "np.full((possible_move_len, ), 1./possible_move_len)"
   ]
  }
 ],
 "metadata": {
  "kernelspec": {
   "display_name": "gomoku",
   "language": "python",
   "name": "gomoku"
  },
  "language_info": {
   "codemirror_mode": {
    "name": "ipython",
    "version": 3
   },
   "file_extension": ".py",
   "mimetype": "text/x-python",
   "name": "python",
   "nbconvert_exporter": "python",
   "pygments_lexer": "ipython3",
   "version": "3.6.4"
  }
 },
 "nbformat": 4,
 "nbformat_minor": 2
}
