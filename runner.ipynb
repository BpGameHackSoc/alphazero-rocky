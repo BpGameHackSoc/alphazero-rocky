{
 "cells": [
  {
   "cell_type": "code",
   "execution_count": null,
   "metadata": {
    "scrolled": false
   },
   "outputs": [],
   "source": [
    "from src.arena import Arena\n",
    "from src.agents.random import RandomAgent\n",
    "\n",
    "p1 = RandomAgent(name='first')\n",
    "p2 = RandomAgent(name='second')\n",
    "arena = Arena('gomoku', p1, p2)\n",
    "\n",
    "arena.battle(verbose=2)"
   ]
  },
  {
   "cell_type": "code",
   "execution_count": null,
   "metadata": {},
   "outputs": [],
   "source": [
    "from src.games.gomoku.game import GomokuState\n",
    "from src  import mcts\n",
    "from src  import tree_node\n",
    "from importlib import reload\n",
    "reload(mcts)\n",
    "reload(tree_node)\n"
   ]
  },
  {
   "cell_type": "code",
   "execution_count": null,
   "metadata": {},
   "outputs": [],
   "source": [
    "# Get info about how fast the MCTS is\n",
    "#from src.test_teacher import Teacher,Gomoku,Brain\n",
    "from importlib import reload\n",
    "from src.games.gomoku.game import GomokuState\n",
    "from src.games.gomoku.neural_net import GomokuNN\n",
    "import src\n",
    "reload(src)\n",
    "from src  import mcts\n",
    "from src  import tree_node\n",
    "from src.games.gomoku.config import BOARD_SIZE\n",
    "# Get info about how fast the MCTS is\n",
    "# b = GomokuNN()\n",
    "# g = GomokuState()\n",
    "# n = tree_node.Node(g, BOARD_SIZE*BOARD_SIZE)\n",
    "# ts = mcts.MCTS(b, time=1)\n",
    "# root = ts.search(n)"
   ]
  },
  {
   "cell_type": "code",
   "execution_count": null,
   "metadata": {},
   "outputs": [],
   "source": [
    "ts.stats()"
   ]
  },
  {
   "cell_type": "code",
   "execution_count": null,
   "metadata": {},
   "outputs": [],
   "source": [
    "from enum import IntEnum\n",
    "class ASd(IntEnum):\n",
    "    A = 0\n",
    "    B =1 "
   ]
  },
  {
   "cell_type": "code",
   "execution_count": null,
   "metadata": {},
   "outputs": [],
   "source": [
    "any([None] * 8)"
   ]
  },
  {
   "cell_type": "code",
   "execution_count": null,
   "metadata": {},
   "outputs": [],
   "source": [
    "from importlib import reload\n",
    "import src\n",
    "reload(src)\n",
    "from src.games.gomoku.game import GomokuState\n",
    "from src.games.gomoku.neural_net import GomokuNN\n",
    "from src import mcts, mcts_treaded, tree_node\n",
    "from src.games.gomoku.config import BOARD_SIZE\n",
    "# Get info about how fast the MCTS is\n",
    "b = GomokuNN('gomoku_checkpoint_26')\n",
    "\n",
    "\n"
   ]
  },
  {
   "cell_type": "code",
   "execution_count": null,
   "metadata": {},
   "outputs": [],
   "source": [
    "time = 3\n",
    "threads = False\n",
    "g = GomokuState()\n",
    "g = g.move(4)\n",
    "g = g.move(1)\n",
    "g = g.move(2)\n",
    "g = g.move(6)\n",
    "g = g.move(5)\n",
    "print(g)"
   ]
  },
  {
   "cell_type": "code",
   "execution_count": null,
   "metadata": {},
   "outputs": [],
   "source": [
    "if threads:\n",
    "    ts = mcts_treaded.MCTS_threaded(b, time=time)\n",
    "    root = ts.search(state=g,threads=3)\n",
    "    print(ts.stats())\n",
    "else:\n",
    "    ts = mcts.MCTS(b, time=time)\n",
    "    root = ts.search(state=g)\n",
    "    print(ts.stats())\n",
    "pass"
   ]
  },
  {
   "cell_type": "code",
   "execution_count": null,
   "metadata": {},
   "outputs": [],
   "source": [
    "root.children_p.round(2)"
   ]
  },
  {
   "cell_type": "code",
   "execution_count": null,
   "metadata": {
    "scrolled": false
   },
   "outputs": [],
   "source": [
    "from importlib import reload\n",
    "import src.trainer\n",
    "reload(src.trainer)\n",
    "from src.trainer import Trainer\n",
    "coach = Trainer('gomoku')"
   ]
  },
  {
   "cell_type": "code",
   "execution_count": null,
   "metadata": {
    "scrolled": false
   },
   "outputs": [],
   "source": [
    "coach.learn()"
   ]
  }
 ],
 "metadata": {
  "kernelspec": {
   "display_name": "Python 3",
   "language": "python",
   "name": "python3"
  },
  "language_info": {
   "codemirror_mode": {
    "name": "ipython",
    "version": 3
   },
   "file_extension": ".py",
   "mimetype": "text/x-python",
   "name": "python",
   "nbconvert_exporter": "python",
   "pygments_lexer": "ipython3",
   "version": "3.6.4"
  }
 },
 "nbformat": 4,
 "nbformat_minor": 2
}
