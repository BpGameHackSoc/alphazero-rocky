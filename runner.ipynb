{
 "cells": [
  {
   "cell_type": "code",
   "execution_count": null,
   "metadata": {},
   "outputs": [],
   "source": [
    "from importlib import reload\n",
    "import src.trainer"
   ]
  },
  {
   "cell_type": "code",
   "execution_count": 1,
   "metadata": {
    "collapsed": true
   },
   "outputs": [
    {
     "name": "stderr",
     "output_type": "stream",
     "text": [
      "/home/gergely/miniconda3/envs/gomoku/lib/python3.6/site-packages/h5py/__init__.py:36: FutureWarning: Conversion of the second argument of issubdtype from `float` to `np.floating` is deprecated. In future, it will be treated as `np.float64 == np.dtype(float).type`.\n",
      "  from ._conv import register_converters as _register_converters\n",
      "Using TensorFlow backend.\n"
     ]
    },
    {
     "name": "stdout",
     "output_type": "stream",
     "text": [
      "{'max_depth': 3, 'nn_value': 0.0, 'mcts_value': 0.039695777, 'n': 490, 'node/s': 245.0, 'ranks': [57, 55, 61, 60, 49, 55, 52, 47, 53]}\n",
      "{'max_depth': 4, 'nn_value': 0.0, 'mcts_value': 0.042204402, 'n': 873, 'node/s': 436.5, 'ranks': [107, 101, 100, 107, 95, 95, 89, 95, 83]}\n",
      "{'max_depth': 4, 'nn_value': 0.0, 'mcts_value': 0.04178654, 'n': 807, 'node/s': 403.5, 'ranks': [107, 89, 92, 102, 79, 91, 79, 85, 82]}\n",
      "{'max_depth': 4, 'nn_value': 0.0, 'mcts_value': 0.040952794, 'n': 740, 'node/s': 370.0, 'ranks': [101, 78, 83, 105, 90, 73, 73, 64, 72]}\n",
      "{'max_depth': 4, 'nn_value': 0.0, 'mcts_value': 0.04104009, 'n': 751, 'node/s': 375.5, 'ranks': [102, 100, 87, 80, 92, 82, 76, 58, 73]}\n",
      "{'max_depth': 4, 'nn_value': 0.0, 'mcts_value': 0.040550753, 'n': 707, 'node/s': 353.5, 'ranks': [99, 98, 85, 72, 72, 57, 54, 75, 94]}\n",
      "{'max_depth': 4, 'nn_value': 0.0, 'mcts_value': 0.041762937, 'n': 725, 'node/s': 362.5, 'ranks': [92, 70, 81, 82, 90, 81, 96, 61, 71]}\n",
      "{'max_depth': 4, 'nn_value': 0.0, 'mcts_value': 0.04082646, 'n': 726, 'node/s': 363.0, 'ranks': [95, 72, 75, 78, 74, 78, 77, 105, 71]}\n",
      "{'max_depth': 4, 'nn_value': 0.0, 'mcts_value': 0.04079554, 'n': 689, 'node/s': 344.5, 'ranks': [111, 106, 93, 51, 66, 47, 71, 42, 101]}\n",
      "{'max_depth': 4, 'nn_value': 0.0, 'mcts_value': 0.04119253, 'n': 688, 'node/s': 344.0, 'ranks': [106, 48, 55, 88, 91, 86, 71, 47, 95]}\n",
      "{'max_depth': 4, 'nn_value': 0.0, 'mcts_value': 0.041303143, 'n': 674, 'node/s': 337.0, 'ranks': [121, 50, 98, 119, 48, 53, 88, 45, 51]}\n",
      "{'max_depth': 4, 'nn_value': 0.0, 'mcts_value': 0.040492166, 'n': 689, 'node/s': 344.5, 'ranks': [111, 120, 64, 60, 54, 100, 61, 54, 64]}\n",
      "{'max_depth': 4, 'nn_value': 0.0, 'mcts_value': 0.042257365, 'n': 699, 'node/s': 349.5, 'ranks': [66, 58, 134, 75, 65, 134, 54, 53, 59]}\n",
      "{'max_depth': 4, 'nn_value': 0.0, 'mcts_value': 0.040678307, 'n': 698, 'node/s': 349.0, 'ranks': [69, 103, 67, 82, 122, 66, 78, 52, 58]}\n",
      "{'max_depth': 4, 'nn_value': 0.0, 'mcts_value': 0.04073865, 'n': 672, 'node/s': 336.0, 'ranks': [72, 113, 87, 82, 41, 69, 83, 55, 69]}\n",
      "{'max_depth': 4, 'nn_value': 0.0, 'mcts_value': 0.041125968, 'n': 690, 'node/s': 345.0, 'ranks': [70, 87, 78, 78, 89, 86, 89, 30, 82]}\n",
      "{'max_depth': 4, 'nn_value': 0.0, 'mcts_value': 0.04115896, 'n': 688, 'node/s': 344.0, 'ranks': [80, 36, 87, 85, 98, 83, 73, 71, 74]}\n",
      "{'max_depth': 4, 'nn_value': 0.0, 'mcts_value': 0.041208476, 'n': 666, 'node/s': 333.0, 'ranks': [98, 88, 97, 100, 30, 86, 94, 44, 28]}\n",
      "{'max_depth': 4, 'nn_value': 0.0, 'mcts_value': 0.04171, 'n': 690, 'node/s': 345.0, 'ranks': [26, 105, 73, 79, 78, 92, 92, 72, 72]}\n",
      "{'max_depth': 4, 'nn_value': 0.0, 'mcts_value': 0.04109331, 'n': 700, 'node/s': 350.0, 'ranks': [101, 77, 29, 112, 27, 104, 36, 113, 100]}\n",
      "{'max_depth': 4, 'nn_value': 0.0, 'mcts_value': 0.042399656, 'n': 703, 'node/s': 351.5, 'ranks': [108, 28, 78, 75, 28, 106, 110, 54, 115]}\n",
      "{'max_depth': 4, 'nn_value': 0.0, 'mcts_value': 0.041542392, 'n': 691, 'node/s': 345.5, 'ranks': [124, 28, 56, 110, 47, 27, 95, 92, 111]}\n",
      "{'max_depth': 4, 'nn_value': 0.0, 'mcts_value': 0.041760594, 'n': 693, 'node/s': 346.5, 'ranks': [113, 32, 113, 31, 112, 85, 29, 54, 123]}\n",
      "{'max_depth': 4, 'nn_value': 0.0, 'mcts_value': 0.04194144, 'n': 683, 'node/s': 341.5, 'ranks': [91, 138, 33, 33, 30, 160, 34, 103, 60]}\n",
      "{'max_depth': 4, 'nn_value': 0.0, 'mcts_value': 0.043344367, 'n': 691, 'node/s': 345.5, 'ranks': [31, 32, 32, 150, 58, 123, 125, 76, 63]}\n",
      "{'max_depth': 4, 'nn_value': 0.0, 'mcts_value': 0.04337188, 'n': 699, 'node/s': 349.5, 'ranks': [31, 33, 32, 148, 56, 105, 113, 85, 95]}\n",
      "{'max_depth': 4, 'nn_value': 0.0, 'mcts_value': 0.043502133, 'n': 697, 'node/s': 348.5, 'ranks': [70, 34, 34, 157, 46, 146, 134, 35, 40]}\n",
      "{'max_depth': 4, 'nn_value': 0.0, 'mcts_value': 0.044135734, 'n': 696, 'node/s': 348.0, 'ranks': [33, 32, 34, 69, 37, 143, 149, 113, 85]}\n",
      "{'max_depth': 4, 'nn_value': 0.0, 'mcts_value': 0.04314596, 'n': 696, 'node/s': 348.0, 'ranks': [35, 35, 35, 164, 72, 32, 117, 120, 85]}\n",
      "{'max_depth': 4, 'nn_value': 0.0, 'mcts_value': 0.04236079, 'n': 709, 'node/s': 354.5, 'ranks': [103, 39, 37, 184, 41, 182, 43, 37, 42]}\n",
      "{'max_depth': 5, 'nn_value': 0.0, 'mcts_value': 0.042748995, 'n': 668, 'node/s': 334.0, 'ranks': [100, 41, 39, 44, 37, 170, 40, 39, 157]}\n",
      "{'max_depth': 5, 'nn_value': 0.0, 'mcts_value': 0.04340391, 'n': 717, 'node/s': 358.5, 'ranks': [126, 43, 41, 137, 45, 32, 160, 35, 97]}\n",
      "{'max_depth': 4, 'nn_value': 0.0, 'mcts_value': 0.042612202, 'n': 712, 'node/s': 356.0, 'ranks': [37, 42, 41, 91, 47, 54, 101, 135, 163]}\n",
      "{'max_depth': 5, 'nn_value': 0.0, 'mcts_value': 0.042230193, 'n': 709, 'node/s': 354.5, 'ranks': [38, 42, 43, 82, 117, 156, 46, 149, 35]}\n",
      "{'max_depth': 4, 'nn_value': 0.0, 'mcts_value': 0.041203327, 'n': 701, 'node/s': 350.5, 'ranks': [39, 45, 41, 158, 49, 72, 75, 185, 36]}\n",
      "{'max_depth': 5, 'nn_value': 0.0, 'mcts_value': 0.04292969, 'n': 711, 'node/s': 355.5, 'ranks': [51, 46, 45, 137, 45, 37, 152, 112, 85]}\n",
      "{'max_depth': 5, 'nn_value': 0.0, 'mcts_value': 0.043724097, 'n': 686, 'node/s': 343.0, 'ranks': [40, 45, 46, 27, 65, 124, 147, 123, 68]}\n",
      "{'max_depth': 5, 'nn_value': 0.0, 'mcts_value': 0.041114885, 'n': 698, 'node/s': 349.0, 'ranks': [41, 48, 44, 146, 47, 57, 39, 125, 150]}\n",
      "{'max_depth': 5, 'nn_value': 0.0, 'mcts_value': 0.041706383, 'n': 716, 'node/s': 358.0, 'ranks': [41, 49, 47, 157, 209, 51, 61, 40, 60]}\n",
      "{'max_depth': 5, 'nn_value': 0.0, 'mcts_value': 0.04339918, 'n': 720, 'node/s': 360.0, 'ranks': [44, 47, 48, 58, 142, 120, 134, 94, 32]}\n",
      "{'max_depth': 5, 'nn_value': 0.0, 'mcts_value': 0.042582065, 'n': 706, 'node/s': 353.0, 'ranks': [34, 50, 50, 110, 134, 22, 137, 137, 31]}\n",
      "{'max_depth': 5, 'nn_value': 0.0, 'mcts_value': 0.04064346, 'n': 716, 'node/s': 358.0, 'ranks': [44, 52, 51, 97, 54, 60, 55, 243, 59]}\n",
      "{'max_depth': 5, 'nn_value': 0.0, 'mcts_value': 0.041691184, 'n': 709, 'node/s': 354.5, 'ranks': [59, 52, 52, 250, 74, 45, 65, 55, 56]}\n",
      "{'max_depth': 5, 'nn_value': 0.0, 'mcts_value': 0.040795688, 'n': 698, 'node/s': 349.0, 'ranks': [97, 53, 52, 134, 61, 41, 34, 126, 99]}\n",
      "{'max_depth': 5, 'nn_value': 0.0, 'mcts_value': 0.041809514, 'n': 705, 'node/s': 352.5, 'ranks': [40, 55, 52, 30, 75, 140, 79, 191, 42]}\n",
      "{'max_depth': 5, 'nn_value': 0.0, 'mcts_value': 0.042556383, 'n': 686, 'node/s': 343.0, 'ranks': [35, 54, 53, 128, 112, 28, 143, 106, 26]}\n",
      "{'max_depth': 5, 'nn_value': 0.0, 'mcts_value': 0.04129017, 'n': 690, 'node/s': 345.0, 'ranks': [28, 61, 45, 151, 110, 35, 25, 122, 112]}\n",
      "{'max_depth': 5, 'nn_value': 0.0, 'mcts_value': 0.04125301, 'n': 696, 'node/s': 348.0, 'ranks': [50, 60, 42, 182, 140, 57, 66, 37, 61]}\n",
      "{'max_depth': 5, 'nn_value': 0.0, 'mcts_value': 0.03914562, 'n': 690, 'node/s': 345.0, 'ranks': [144, 61, 53, 22, 72, 45, 51, 152, 89]}\n"
     ]
    }
   ],
   "source": [
    "from src.games.gomoku.game import GomokuState\n",
    "from src.games.gomoku.neural_net import GomokuNN\n",
    "from src  import mcts\n",
    "from src  import mcts_treaded\n",
    "from src  import tree_node\n",
    "from src.games.gomoku.config import BOARD_SIZE\n",
    "# Get info about how fast the MCTS is\n",
    "b = GomokuNN()\n",
    "g = GomokuState()\n",
    "time = 2\n",
    "threads = True\n",
    "if threads:\n",
    "    for i in range(1,50,1):\n",
    "        n = tree_node.Node_threaded(g)\n",
    "        ts = mcts_treaded.MCTS_threaded(b, time=time)\n",
    "        root = ts.search(n,threads=i)\n",
    "        print(ts.stats())\n",
    "else:\n",
    "    n = tree_node.Node(g, BOARD_SIZE*BOARD_SIZE)\n",
    "    ts = mcts.MCTS(b, time=time)\n",
    "    root = ts.search(n)\n",
    "    print(ts.stats())\n",
    "pass\n"
   ]
  },
  {
   "cell_type": "code",
   "execution_count": 3,
   "metadata": {},
   "outputs": [],
   "source": [
    "g = g.move(5)"
   ]
  },
  {
   "cell_type": "code",
   "execution_count": 4,
   "metadata": {},
   "outputs": [
    {
     "data": {
      "text/plain": [
       "array([[ 0.,  0.,  0.],\n",
       "       [ 0.,  1., -1.],\n",
       "       [ 0.,  0.,  0.]])"
      ]
     },
     "execution_count": 4,
     "metadata": {},
     "output_type": "execute_result"
    }
   ],
   "source": [
    "g.board"
   ]
  },
  {
   "cell_type": "code",
   "execution_count": 11,
   "metadata": {},
   "outputs": [],
   "source": [
    "def run_mcts(g):\n",
    "    n = tree_node.Node_threaded(g)\n",
    "    ts = mcts_treaded.MCTS_threaded(b, time=100)\n",
    "    root = ts.search(n,threads=3)\n",
    "    print(ts.stats())\n",
    "    return root\n",
    "    "
   ]
  },
  {
   "cell_type": "code",
   "execution_count": 12,
   "metadata": {},
   "outputs": [
    {
     "name": "stdout",
     "output_type": "stream",
     "text": [
      "{'max_depth': 3, 'nn_value': 0.040113624, 'mcts_value': 0.019177016, 'n': 120, 'node/s': 1.2, 'ranks': [27, 15, 16, 16, 0, 0, 12, 16, 17]}\n"
     ]
    }
   ],
   "source": [
    "r = run_mcts(g)"
   ]
  },
  {
   "cell_type": "code",
   "execution_count": null,
   "metadata": {},
   "outputs": [],
   "source": [
    "#for child in root.children:\n",
    "#    print(child.Q)\n",
    "print(root.children_p)"
   ]
  },
  {
   "cell_type": "code",
   "execution_count": null,
   "metadata": {},
   "outputs": [],
   "source": [
    "reload(src.trainer)\n",
    "trainer = src.trainer.Trainer('gomoku')"
   ]
  },
  {
   "cell_type": "code",
   "execution_count": null,
   "metadata": {
    "scrolled": false
   },
   "outputs": [],
   "source": [
    "trainer.play_one_episode()"
   ]
  },
  {
   "cell_type": "code",
   "execution_count": null,
   "metadata": {},
   "outputs": [],
   "source": [
    "from src.games.gomoku.game import GomokuState\n",
    "g = GomokuState()\n",
    "g"
   ]
  },
  {
   "cell_type": "code",
   "execution_count": null,
   "metadata": {},
   "outputs": [],
   "source": []
  }
 ],
 "metadata": {
  "kernelspec": {
   "display_name": "gomoku",
   "language": "python",
   "name": "gomoku"
  },
  "language_info": {
   "codemirror_mode": {
    "name": "ipython",
    "version": 3
   },
   "file_extension": ".py",
   "mimetype": "text/x-python",
   "name": "python",
   "nbconvert_exporter": "python",
   "pygments_lexer": "ipython3",
   "version": "3.6.4"
  }
 },
 "nbformat": 4,
 "nbformat_minor": 2
}
