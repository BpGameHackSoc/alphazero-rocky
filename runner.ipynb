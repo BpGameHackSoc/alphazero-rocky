{
 "cells": [
  {
   "cell_type": "code",
   "execution_count": null,
   "metadata": {
    "scrolled": false
   },
   "outputs": [],
   "source": [
    "from importlib import reload\n",
    "import src.trainer\n",
    "reload(src.trainer)\n",
    "from src.trainer import Trainer\n",
    "coach = Trainer('gomoku')"
   ]
  },
  {
   "cell_type": "code",
   "execution_count": null,
   "metadata": {
    "scrolled": false
   },
   "outputs": [],
   "source": [
    "coach.learn()"
   ]
  },
  {
   "cell_type": "code",
   "execution_count": 2,
   "metadata": {},
   "outputs": [],
   "source": [
    "from src.arena import Arena\n",
    "from src.agents.human import HumanAgent\n",
    "from src.agents.student import StudentAgent\n",
    "from src.agents.random import RandomAgent\n",
    "from src.games.gomoku.neural_net import GomokuNN\n",
    "\n",
    "#b = GomokuNN('gomokunew_checkpoint_20')\n",
    "#s = StudentAgent(b)\n",
    "#h = HumanAgent()\n",
    "r = RandomAgent()\n",
    "a = Arena('gomoku',r,r)"
   ]
  },
  {
   "cell_type": "code",
   "execution_count": 3,
   "metadata": {
    "scrolled": false
   },
   "outputs": [
    {
     "name": "stderr",
     "output_type": "stream",
     "text": [
      "Arena: 100%|██████████████████████████████████████████████████████████████████████████| 10/10 [00:00<00:00, 123.37it/s]\n"
     ]
    }
   ],
   "source": [
    "wins, history = a.war(10)"
   ]
  },
  {
   "cell_type": "code",
   "execution_count": 13,
   "metadata": {},
   "outputs": [
    {
     "data": {
      "text/plain": [
       "array([list([0, 3, 5, 2, 4, 6, 8]), list([5, 0, 7, 8, 4, 2, 1]),\n",
       "       list([8, 6, 7, 1, 3, 2, 5, 0]), list([6, 5, 0, 1, 3]),\n",
       "       list([4, 2, 7, 6, 1]), list([0, 3, 5, 6, 8, 4, 2]),\n",
       "       list([8, 7, 3, 4, 5, 6, 2]), list([8, 2, 0, 1, 5, 4, 3, 6]),\n",
       "       list([7, 4, 5, 3, 1, 8, 0, 2, 6]), list([8, 5, 1, 3, 0, 2, 4])], dtype=object)"
      ]
     },
     "execution_count": 13,
     "metadata": {},
     "output_type": "execute_result"
    }
   ],
   "source": [
    "import numpy as np\n",
    "np.array(history)[:,0]"
   ]
  },
  {
   "cell_type": "code",
   "execution_count": 1,
   "metadata": {},
   "outputs": [
    {
     "data": {
      "text/plain": [
       "array([ 0.11111111,  0.11111111,  0.11111111,  0.11111111,  0.11111111,\n",
       "        0.11111111,  0.11111111,  0.11111111,  0.11111111])"
      ]
     },
     "execution_count": 1,
     "metadata": {},
     "output_type": "execute_result"
    }
   ],
   "source": [
    "import numpy as np\n",
    "possible_move_len = 9\n",
    "np.full((possible_move_len, ), 1./possible_move_len)"
   ]
  }
 ],
 "metadata": {
  "kernelspec": {
   "display_name": "Python 3",
   "language": "python",
   "name": "python3"
  },
  "language_info": {
   "codemirror_mode": {
    "name": "ipython",
    "version": 3
   },
   "file_extension": ".py",
   "mimetype": "text/x-python",
   "name": "python",
   "nbconvert_exporter": "python",
   "pygments_lexer": "ipython3",
   "version": "3.6.3"
  }
 },
 "nbformat": 4,
 "nbformat_minor": 2
}
