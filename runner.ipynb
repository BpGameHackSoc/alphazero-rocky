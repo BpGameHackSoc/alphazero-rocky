{
 "cells": [
  {
   "cell_type": "code",
   "execution_count": null,
   "metadata": {
    "scrolled": false
   },
   "outputs": [],
   "source": [
    "from src.arena import Arena\n",
    "from src.agents.random import RandomAgent\n",
    "\n",
    "p1 = RandomAgent(name='first')\n",
    "p2 = RandomAgent(name='second')\n",
    "arena = Arena('gomoku', p1, p2)\n",
    "\n",
    "arena.battle(verbose=2)"
   ]
  }
 ],
 "metadata": {
  "kernelspec": {
   "display_name": "Python 3",
   "language": "python",
   "name": "python3"
  },
  "language_info": {
   "codemirror_mode": {
    "name": "ipython",
    "version": 3
   },
   "file_extension": ".py",
   "mimetype": "text/x-python",
   "name": "python",
   "nbconvert_exporter": "python",
   "pygments_lexer": "ipython3",
   "version": "3.6.3"
  }
 },
 "nbformat": 4,
 "nbformat_minor": 2
}
